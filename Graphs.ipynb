{
  "nbformat": 4,
  "nbformat_minor": 0,
  "metadata": {
    "colab": {
      "provenance": [],
      "authorship_tag": "ABX9TyMvdRN0jJYuAJyW6JKd2rKs",
      "include_colab_link": true
    },
    "kernelspec": {
      "name": "python3",
      "display_name": "Python 3"
    },
    "language_info": {
      "name": "python"
    }
  },
  "cells": [
    {
      "cell_type": "markdown",
      "metadata": {
        "id": "view-in-github",
        "colab_type": "text"
      },
      "source": [
        "<a href=\"https://colab.research.google.com/github/Denzel-Loyd-Macasero/-DSA-58011/blob/main/Graphs.ipynb\" target=\"_parent\"><img src=\"https://colab.research.google.com/assets/colab-badge.svg\" alt=\"Open In Colab\"/></a>"
      ]
    },
    {
      "cell_type": "code",
      "execution_count": 2,
      "metadata": {
        "colab": {
          "base_uri": "https://localhost:8080/"
        },
        "id": "NqF97eu6YxQn",
        "outputId": "cd46b0e6-4fa5-45d1-be9e-2713044c6fe8"
      },
      "outputs": [
        {
          "output_type": "stream",
          "name": "stdout",
          "text": [
            "{'a': ['b', 'c'], 'b': ['a', 'd'], 'c': ['a', 'd'], 'd': ['b', 'c', 'e'], 'e': ['e']}\n"
          ]
        }
      ],
      "source": [
        "#Data Elements using Dictionaries to implement Graphs\n",
        "graph = {\n",
        "    'a' : ['b','c'],\n",
        "    'b' : ['a','d',],\n",
        "    'c' : ['a','d'],\n",
        "    'd' : ['b','c','e'],\n",
        "    'e' : ['e'],\n",
        "}\n",
        "print(graph)"
      ]
    },
    {
      "cell_type": "code",
      "source": [
        "graph = {\n",
        "    '1' : ['1','2'],\n",
        "    '2' : ['2'],\n",
        "    '3' : ['3'],\n",
        "    '4' : ['4','1','2','3'],\n",
        "}\n",
        "\n",
        "print(graph)"
      ],
      "metadata": {
        "colab": {
          "base_uri": "https://localhost:8080/"
        },
        "id": "zYZKinzYdB28",
        "outputId": "f8fd7770-4da4-49e6-cd67-f2bfcdd8e18f"
      },
      "execution_count": 5,
      "outputs": [
        {
          "output_type": "stream",
          "name": "stdout",
          "text": [
            "{'1': ['1', '2'], '2': ['2'], '3': ['3'], '4': ['4', '1', '2', '3']}\n"
          ]
        }
      ]
    }
  ]
}