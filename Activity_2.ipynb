{
  "nbformat": 4,
  "nbformat_minor": 0,
  "metadata": {
    "colab": {
      "provenance": [],
      "authorship_tag": "ABX9TyN1jsr1TKas/Y/iJi3f8OVW",
      "include_colab_link": true
    },
    "kernelspec": {
      "name": "python3",
      "display_name": "Python 3"
    },
    "language_info": {
      "name": "python"
    }
  },
  "cells": [
    {
      "cell_type": "markdown",
      "metadata": {
        "id": "view-in-github",
        "colab_type": "text"
      },
      "source": [
        "<a href=\"https://colab.research.google.com/github/Denzel-Loyd-Macasero/-DSA-58011/blob/main/Activity_2.ipynb\" target=\"_parent\"><img src=\"https://colab.research.google.com/assets/colab-badge.svg\" alt=\"Open In Colab\"/></a>"
      ]
    },
    {
      "cell_type": "code",
      "execution_count": 8,
      "metadata": {
        "colab": {
          "base_uri": "https://localhost:8080/"
        },
        "id": "oTBFnaGTLlZb",
        "outputId": "77e41fda-cb21-4cb3-8210-3ea284c1adb9"
      },
      "outputs": [
        {
          "output_type": "stream",
          "name": "stdout",
          "text": [
            "Input a letter of the alphabet: a\n",
            "a is a vowel.\n"
          ]
        }
      ],
      "source": [
        "l = input(\"Input a letter of the alphabet: \")\n",
        "\n",
        "if l in ('a', 'e', 'i', 'o', 'u'):\n",
        "\tprint(\"%s is a vowel.\" % l)\n",
        "else:\n",
        "\tprint(\"%s is a consonant.\" % l) "
      ]
    },
    {
      "cell_type": "code",
      "source": [
        "class Node:\n",
        "    def __init__(self, x):\n",
        "        self.data = x\n",
        "        self.next = None\n",
        " \n",
        "\n",
        "def printlist(head):\n",
        "    if (not head):\n",
        "        print(\"Empty List\")\n",
        "        return\n",
        " \n",
        "    while (head != None):\n",
        "        print(head.data, end = \" \")\n",
        "        if (head.next):\n",
        "            print(end = \"-> \")\n",
        "        head = head.next\n",
        "    print()\n",
        "\n",
        "    \n",
        "def isVowel(x):\n",
        "    return (x == 'a' or x == 'e' or x == 'i'\n",
        "            or x == 'o' or x == 'u' or x == 'A'\n",
        "            or x == 'E' or x == 'I' or x == 'O'\n",
        "            or x == 'U')\n",
        "\n",
        "def arrange(head):\n",
        "    newHead = head\n",
        " \n",
        "    \n",
        "    latestVowel = None\n",
        " \n",
        "    curr = head\n",
        " \n",
        "  \n",
        "    if (head == None):\n",
        "        return None\n",
        " \n",
        "    \n",
        "    if (isVowel(head.data)):\n",
        " \n",
        "       \n",
        "        latestVowel = head\n",
        " \n",
        "    else:\n",
        " \n",
        "        while (curr.next != None and\n",
        "               not isVowel(curr.next.data)):\n",
        "            curr = curr.next\n",
        " \n",
        " \n",
        "        \n",
        "        if (curr.next == None):\n",
        "            return head\n",
        " \n",
        "        \n",
        "        latestVowel = newHead = curr.next\n",
        "        curr.next = curr.next.next\n",
        "        latestVowel.next = head\n",
        " \n",
        "   \n",
        "    while (curr != None and curr.next != None):\n",
        "        if (isVowel(curr.next.data)):\n",
        "             \n",
        "            \n",
        "            if (curr == latestVowel):\n",
        "                \n",
        "                latestVowel = curr = curr.next\n",
        "            else:\n",
        " \n",
        "                \n",
        "                temp = latestVowel.next\n",
        " \n",
        "               \n",
        "                latestVowel.next = curr.next\n",
        " \n",
        "                \n",
        "                latestVowel = latestVowel.next\n",
        " \n",
        "               \n",
        "                curr.next = curr.next.next\n",
        " \n",
        "                \n",
        "                latestVowel.next = temp\n",
        " \n",
        "        else:\n",
        " \n",
        "            \n",
        "            curr = curr.next\n",
        " \n",
        "    return newHead\n",
        " \n",
        "\n",
        "if __name__ == '__main__':\n",
        "     \n",
        " \n",
        "    head = Node('a')\n",
        "    head.next = Node('b')\n",
        "    head.next.next = Node('c')\n",
        "    head.next.next.next = Node('e')\n",
        "    head.next.next.next.next = Node('d')\n",
        "    head.next.next.next.next.next = Node('o')\n",
        "    head.next.next.next.next.next.next = Node('x')\n",
        "    head.next.next.next.next.next.next.next = Node('i')\n",
        " \n",
        " \n",
        "    print(\"Linked list before :\")\n",
        "    printlist(head)\n",
        " \n",
        "    head = arrange(head)\n",
        " \n",
        "    \n",
        "    print(\"Linked list after :\")\n",
        "    printlist(head)"
      ],
      "metadata": {
        "colab": {
          "base_uri": "https://localhost:8080/"
        },
        "id": "TioFcx_WMxwM",
        "outputId": "f3303fa6-98af-4f85-864d-834fd0cbab5e"
      },
      "execution_count": 7,
      "outputs": [
        {
          "output_type": "stream",
          "name": "stdout",
          "text": [
            "Linked list before :\n",
            "a -> b -> c -> e -> d -> o -> x -> i \n",
            "Linked list after :\n",
            "a -> e -> o -> i -> b -> c -> d -> x \n"
          ]
        }
      ]
    }
  ]
}