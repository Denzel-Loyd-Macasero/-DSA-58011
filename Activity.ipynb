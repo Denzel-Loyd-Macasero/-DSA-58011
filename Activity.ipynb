{
  "nbformat": 4,
  "nbformat_minor": 0,
  "metadata": {
    "colab": {
      "provenance": [],
      "authorship_tag": "ABX9TyMAlri8q2+gYwA0wbjLUguF",
      "include_colab_link": true
    },
    "kernelspec": {
      "name": "python3",
      "display_name": "Python 3"
    },
    "language_info": {
      "name": "python"
    }
  },
  "cells": [
    {
      "cell_type": "markdown",
      "metadata": {
        "id": "view-in-github",
        "colab_type": "text"
      },
      "source": [
        "<a href=\"https://colab.research.google.com/github/Denzel-Loyd-Macasero/-DSA-58011/blob/main/Activity.ipynb\" target=\"_parent\"><img src=\"https://colab.research.google.com/assets/colab-badge.svg\" alt=\"Open In Colab\"/></a>"
      ]
    },
    {
      "cell_type": "code",
      "source": [
        "\n",
        "import array as arr\n",
        " \n",
        "\n",
        "l = [1, 2, 3, 4, 5, 6, 7, 8, 9, 10]\n",
        " \n",
        "a = arr.array('i', l)\n",
        "print(\"Initial Array: \")\n",
        "for i in (a):\n",
        "    print(i, end =\" \")\n",
        " \n",
        "\n",
        "\n",
        "Sliced_array = a[:]\n",
        "print(\"\\nPrinting all elements using slice operation: \")\n",
        "print(Sliced_array)\n",
        "\n",
        "arr = [1, 2, 3, 4, 5]\n",
        "print(\"Array is :\",arr)\n",
        " \n",
        "res = arr[::-1]\n",
        "print(\"Resultant new reversed array:\",res)\n",
        "\n",
        "numbers = ['1', '2', '3', '4', '5']\n",
        "print(\"\\nthe length of the array: \")\n",
        "for x in numbers:\n",
        "  print(x)\n"
      ],
      "metadata": {
        "colab": {
          "base_uri": "https://localhost:8080/"
        },
        "id": "EI0Ss8oFRTXk",
        "outputId": "d2c03624-1b99-4d55-d5b2-3bde13962f23"
      },
      "execution_count": 12,
      "outputs": [
        {
          "output_type": "stream",
          "name": "stdout",
          "text": [
            "Initial Array: \n",
            "1 2 3 4 5 6 7 8 9 10 \n",
            "Printing all elements using slice operation: \n",
            "array('i', [1, 2, 3, 4, 5, 6, 7, 8, 9, 10])\n",
            "Array is : [1, 2, 3, 4, 5]\n",
            "Resultant new reversed array: [5, 4, 3, 2, 1]\n",
            "\n",
            "the length of the array: \n",
            "1\n",
            "2\n",
            "3\n",
            "4\n",
            "5\n"
          ]
        }
      ]
    }
  ]
}