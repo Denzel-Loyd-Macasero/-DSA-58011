{
  "nbformat": 4,
  "nbformat_minor": 0,
  "metadata": {
    "colab": {
      "provenance": [],
      "authorship_tag": "ABX9TyMFMKeCalSzGS5y9/+H9O2b",
      "include_colab_link": true
    },
    "kernelspec": {
      "name": "python3",
      "display_name": "Python 3"
    },
    "language_info": {
      "name": "python"
    }
  },
  "cells": [
    {
      "cell_type": "markdown",
      "metadata": {
        "id": "view-in-github",
        "colab_type": "text"
      },
      "source": [
        "<a href=\"https://colab.research.google.com/github/Denzel-Loyd-Macasero/-DSA-58011/blob/main/Activity.ipynb\" target=\"_parent\"><img src=\"https://colab.research.google.com/assets/colab-badge.svg\" alt=\"Open In Colab\"/></a>"
      ]
    },
    {
      "cell_type": "code",
      "source": [
        "\n",
        "import array as arr\n",
        " \n",
        "\n",
        "l = [1, 2, 3, 4, 5, 6, 7, 8, 9, 10]\n",
        " \n",
        "a = arr.array('i', l)\n",
        "print(\"Initial Array: \")\n",
        "for i in (a):\n",
        "    print(i, end =\" \")\n",
        " \n",
        "\n",
        "\n",
        "Sliced_array = a[:]\n",
        "print(\"\\nPrinting all elements using slice operation: \")\n",
        "print(Sliced_array)\n",
        "\n",
        "arr = [1, 2, 3, 4, 5]\n",
        "print(\"Array is :\",arr)\n",
        " \n",
        "res = arr[::-1]\n",
        "print(\"Resultant new reversed array:\",res)\n",
        "\n",
        "numbers = ['1', '2', '3', '4', '5']\n",
        "print(\"\\nthe length of the array: \")\n",
        "for x in numbers:\n",
        "  print(x)\n"
      ],
      "metadata": {
        "colab": {
          "base_uri": "https://localhost:8080/"
        },
        "id": "EI0Ss8oFRTXk",
        "outputId": "d2c03624-1b99-4d55-d5b2-3bde13962f23"
      },
      "execution_count": null,
      "outputs": [
        {
          "output_type": "stream",
          "name": "stdout",
          "text": [
            "Initial Array: \n",
            "1 2 3 4 5 6 7 8 9 10 \n",
            "Printing all elements using slice operation: \n",
            "array('i', [1, 2, 3, 4, 5, 6, 7, 8, 9, 10])\n",
            "Array is : [1, 2, 3, 4, 5]\n",
            "Resultant new reversed array: [5, 4, 3, 2, 1]\n",
            "\n",
            "the length of the array: \n",
            "1\n",
            "2\n",
            "3\n",
            "4\n",
            "5\n"
          ]
        }
      ]
    },
    {
      "cell_type": "markdown",
      "source": [
        "Problem 2:"
      ],
      "metadata": {
        "id": "nMHujXTfmdeq"
      }
    },
    {
      "cell_type": "code",
      "source": [
        "array = [1,2,3,4,5,6,7,8,9,]\n",
        "array.append(10)\n",
        "print(array)"
      ],
      "metadata": {
        "colab": {
          "base_uri": "https://localhost:8080/"
        },
        "id": "qM56iscdjI0e",
        "outputId": "f7c13b55-d37c-4f9d-c65f-5073460839b2"
      },
      "execution_count": 16,
      "outputs": [
        {
          "output_type": "stream",
          "name": "stdout",
          "text": [
            "[1, 2, 3, 4, 5, 6, 7, 8, 9, 10]\n"
          ]
        }
      ]
    },
    {
      "cell_type": "markdown",
      "source": [
        "Problem 3:"
      ],
      "metadata": {
        "id": "_a0GbnwWmi3x"
      }
    },
    {
      "cell_type": "code",
      "source": [
        "array = [1,2,3,4,5,6,7,8,9,10]\n",
        "print('to insert integer 11 before the second element')\n",
        "array.insert(1,11)\n",
        "print(\"arrays = \", array)"
      ],
      "metadata": {
        "colab": {
          "base_uri": "https://localhost:8080/"
        },
        "id": "OzOeBW2qkTS3",
        "outputId": "135f2e3f-07e6-417b-ac18-768f8db8a845"
      },
      "execution_count": 18,
      "outputs": [
        {
          "output_type": "stream",
          "name": "stdout",
          "text": [
            "to insert integer 11 before the second element\n",
            "arrays =  [1, 11, 2, 3, 4, 5, 6, 7, 8, 9, 10]\n"
          ]
        }
      ]
    },
    {
      "cell_type": "markdown",
      "source": [
        "Problem 5:"
      ],
      "metadata": {
        "id": "krmgJ0WJmCfW"
      }
    },
    {
      "cell_type": "code",
      "source": [
        "numbers = [5,4,3,2,1]\n",
        "x=len(numbers)\n",
        "print(x)"
      ],
      "metadata": {
        "colab": {
          "base_uri": "https://localhost:8080/"
        },
        "id": "o_awcelLl-rw",
        "outputId": "5cee8acf-eae7-459e-b684-d0cbd06fa57f"
      },
      "execution_count": 19,
      "outputs": [
        {
          "output_type": "stream",
          "name": "stdout",
          "text": [
            "5\n"
          ]
        }
      ]
    }
  ]
}