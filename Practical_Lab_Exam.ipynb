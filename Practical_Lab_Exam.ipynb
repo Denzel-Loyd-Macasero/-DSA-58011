{
  "nbformat": 4,
  "nbformat_minor": 0,
  "metadata": {
    "colab": {
      "name": "Practical Lab Exam.ipynb",
      "provenance": [],
      "authorship_tag": "ABX9TyMd15Jy16x3nEncFsz/X3hj",
      "include_colab_link": true
    },
    "kernelspec": {
      "name": "python3",
      "display_name": "Python 3"
    },
    "language_info": {
      "name": "python"
    }
  },
  "cells": [
    {
      "cell_type": "markdown",
      "metadata": {
        "id": "view-in-github",
        "colab_type": "text"
      },
      "source": [
        "<a href=\"https://colab.research.google.com/github/Denzel-Loyd-Macasero/-DSA-58011/blob/main/Practical_Lab_Exam.ipynb\" target=\"_parent\"><img src=\"https://colab.research.google.com/assets/colab-badge.svg\" alt=\"Open In Colab\"/></a>"
      ]
    },
    {
      "cell_type": "code",
      "execution_count": 50,
      "metadata": {
        "colab": {
          "base_uri": "https://localhost:8080/"
        },
        "id": "B86Z5CiXLUR5",
        "outputId": "788bbb97-27c4-4a85-e8c1-086fee306981"
      },
      "outputs": [
        {
          "output_type": "stream",
          "name": "stdout",
          "text": [
            "25 27 29 31 33 35 37 39 41 43 45 47 49 51 53 55 57 59 61 63 65 67 69 71 73 75 77 79 81 83 85 87 89 91 93 95 97 "
          ]
        }
      ],
      "source": [
        " start, end = 24, 97\n",
        " \n",
        "for num in range(start, end + 1):\n",
        "     \n",
        "    \n",
        "    if num % 2 != 0:\n",
        "        print(num, end = \" \")"
      ]
    },
    {
      "cell_type": "code",
      "source": [
        "num = int(input(\"Enter a number: \"))\n",
        "if (num % 2) == 0:\n",
        "   print(\"{0} is not an Odd number.\".format(num))\n",
        "  \n",
        "else:\n",
        "   print(\"{0} is an Odd number.\".format(num))\n",
        "\n",
        "   \n",
        "\n",
        " "
      ],
      "metadata": {
        "colab": {
          "base_uri": "https://localhost:8080/"
        },
        "id": "fuV5IWv-T1MC",
        "outputId": "440b5ee3-ad1a-4a85-fe6e-c1f52da8c7bb"
      },
      "execution_count": 41,
      "outputs": [
        {
          "output_type": "stream",
          "name": "stdout",
          "text": [
            "Enter a number: 26\n",
            "26 is not an Odd number.\n"
          ]
        }
      ]
    },
    {
      "cell_type": "code",
      "source": [
        "num = int(input(\"Enter a number: \"))\n",
        "if (num % 2) == 0:\n",
        "   print(\"{0} is not an Odd number.\".format(num))\n",
        "  \n",
        "else:\n",
        "   print(\"{0} is an Odd number.\".format(num))\n",
        "\n",
        "   \n",
        "\n",
        " "
      ],
      "metadata": {
        "colab": {
          "base_uri": "https://localhost:8080/"
        },
        "id": "yPUwGJgrXNtk",
        "outputId": "20276203-f992-476a-9ca9-10dddc5e1014"
      },
      "execution_count": 42,
      "outputs": [
        {
          "output_type": "stream",
          "name": "stdout",
          "text": [
            "Enter a number: 49\n",
            "49 is an Odd number.\n"
          ]
        }
      ]
    },
    {
      "cell_type": "code",
      "source": [
        "num = int(input(\"Enter a number: \"))\n",
        "if (num % 2) == 0:\n",
        "   print(\"{0} is not an Odd number.\".format(num))\n",
        "  \n",
        "else:\n",
        "   print(\"{0} is an Odd number.\".format(num))\n",
        "\n",
        "   \n",
        "\n",
        " \n",
        " "
      ],
      "metadata": {
        "colab": {
          "base_uri": "https://localhost:8080/"
        },
        "id": "01PvAZe7Xdcm",
        "outputId": "b697be2b-45f2-49c7-c092-4bd9132be509"
      },
      "execution_count": 43,
      "outputs": [
        {
          "output_type": "stream",
          "name": "stdout",
          "text": [
            "Enter a number: 98\n",
            "98 is not an Odd number.\n"
          ]
        }
      ]
    },
    {
      "cell_type": "code",
      "source": [
        "num = int(input(\"Enter a number: \"))\n",
        "if (num % 2) == 0:\n",
        "   print(\"{0} is not an Odd number.\".format(num))\n",
        "  \n",
        "else:\n",
        "   print(\"{0} is an Odd number.\".format(num))\n",
        "\n",
        "   \n",
        "\n",
        " \n",
        " "
      ],
      "metadata": {
        "colab": {
          "base_uri": "https://localhost:8080/"
        },
        "id": "A0_GtV8-bUnK",
        "outputId": "84237a55-0274-4394-db5a-7eca7e66db99"
      },
      "execution_count": 44,
      "outputs": [
        {
          "output_type": "stream",
          "name": "stdout",
          "text": [
            "Enter a number: 87\n",
            "87 is an Odd number.\n"
          ]
        }
      ]
    },
    {
      "cell_type": "code",
      "source": [
        "num = int(input(\"Enter a number: \"))\n",
        "if (num % 2) == 0:\n",
        "   print(\"{0} is not an Odd number.\".format(num))\n",
        "  \n",
        "else:\n",
        "   print(\"{0} is an Odd number.\".format(num))\n",
        "\n",
        "   \n",
        "\n",
        " "
      ],
      "metadata": {
        "colab": {
          "base_uri": "https://localhost:8080/"
        },
        "id": "siI25jNUbXTq",
        "outputId": "3a7846b8-cc62-4689-a635-93fae364e6bb"
      },
      "execution_count": 45,
      "outputs": [
        {
          "output_type": "stream",
          "name": "stdout",
          "text": [
            "Enter a number: 62\n",
            "62 is not an Odd number.\n"
          ]
        }
      ]
    },
    {
      "cell_type": "code",
      "source": [
        "num = int(input(\"Enter a number: \"))\n",
        "if (num % 2) == 0:\n",
        "   print(\"{0} is not an Odd number.\".format(num))\n",
        "  \n",
        "else:\n",
        "   print(\"{0} is an Odd number.\".format(num))\n",
        "\n",
        "   \n",
        "\n",
        " \n",
        " "
      ],
      "metadata": {
        "colab": {
          "base_uri": "https://localhost:8080/"
        },
        "id": "h-9A6Q5XbfgL",
        "outputId": "937a56fe-fd56-42ff-e69a-2ca9b35f8dcd"
      },
      "execution_count": 46,
      "outputs": [
        {
          "output_type": "stream",
          "name": "stdout",
          "text": [
            "Enter a number: 75\n",
            "75 is an Odd number.\n"
          ]
        }
      ]
    },
    {
      "cell_type": "code",
      "source": [
        "num[]\n",
        "sum=0\n",
        "number=int(input(\"Enter the total number: \"))\n",
        "for i in range(1,number+1):\n",
        "  value=int(input(\"Input the value:\"))\n",
        "  num.append(value)\n",
        "\n",
        "  for j in range(number):\n",
        "    if(num[j]%2==1):\n",
        "      sum=sum+num[j]\n",
        "\n",
        "      print(\"sum of all odd numbers in the list is: \", sum)"
      ],
      "metadata": {
        "colab": {
          "base_uri": "https://localhost:8080/",
          "height": 130
        },
        "id": "5zCGjXLHq8p1",
        "outputId": "a2ad065d-3ae8-4844-f44e-03260de3512c"
      },
      "execution_count": 52,
      "outputs": [
        {
          "output_type": "error",
          "ename": "SyntaxError",
          "evalue": "ignored",
          "traceback": [
            "\u001b[0;36m  File \u001b[0;32m\"<ipython-input-52-be1794e93af4>\"\u001b[0;36m, line \u001b[0;32m1\u001b[0m\n\u001b[0;31m    num[]\u001b[0m\n\u001b[0m        ^\u001b[0m\n\u001b[0;31mSyntaxError\u001b[0m\u001b[0;31m:\u001b[0m invalid syntax\n"
          ]
        }
      ]
    }
  ]
}