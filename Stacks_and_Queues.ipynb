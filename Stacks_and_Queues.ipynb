{
  "nbformat": 4,
  "nbformat_minor": 0,
  "metadata": {
    "colab": {
      "provenance": [],
      "authorship_tag": "ABX9TyNfIgTioFiyYBDmpuzD/jcC",
      "include_colab_link": true
    },
    "kernelspec": {
      "name": "python3",
      "display_name": "Python 3"
    },
    "language_info": {
      "name": "python"
    }
  },
  "cells": [
    {
      "cell_type": "markdown",
      "metadata": {
        "id": "view-in-github",
        "colab_type": "text"
      },
      "source": [
        "<a href=\"https://colab.research.google.com/github/Denzel-Loyd-Macasero/-DSA-58011/blob/main/Stacks_and_Queues.ipynb\" target=\"_parent\"><img src=\"https://colab.research.google.com/assets/colab-badge.svg\" alt=\"Open In Colab\"/></a>"
      ]
    },
    {
      "cell_type": "code",
      "execution_count": 4,
      "metadata": {
        "colab": {
          "base_uri": "https://localhost:8080/"
        },
        "id": "D1t0zrgvV_sc",
        "outputId": "93a989c0-ae24-4de3-ab10-e6fa3e8ae542"
      },
      "outputs": [
        {
          "output_type": "stream",
          "name": "stdout",
          "text": [
            "Initial elements in the stack ['a', 'b', 'c']\n",
            "c\n",
            "After popping the last element\n",
            "['a', 'b']\n"
          ]
        }
      ],
      "source": [
        "stack = []\n",
        "\n",
        "stack.append('a')\n",
        "stack.append('b')\n",
        "stack.append('c')\n",
        "print('Initial elements in the stack',stack)\n",
        "\n",
        "print(stack.pop())\n",
        "print(\"After popping the last element\")\n",
        "print(stack)"
      ]
    },
    {
      "cell_type": "code",
      "source": [
        "from re import T\n",
        "class Node:\n",
        "  def __init__(self,data):\n",
        "    self.data = data\n",
        "    self.next = None\n",
        "\n",
        "    class LinkedList:\n",
        "      def  __init__(self):\n",
        "        self.head = None\n",
        "        def printList(self):\n",
        "           temp = self.head\n",
        "           while(temp):\n",
        "            print(temp.data)\n",
        "           temp = temp.next\n",
        "           def isempty(self):\n",
        "             if self.printList == None:\n",
        "                return True\n",
        "             else:\n",
        "               return False\n",
        "\n",
        "        def pop(self):\n",
        "        if self.isempty():\n",
        "          print(\"The stack is Empty\")\n",
        "          else:\n",
        "           popped_node = third\n",
        "           return popped_node.data  \n",
        "\n",
        "        llist = LinkedList()\n",
        "        llist.head = Node(1)\n",
        "        second = Node(2)\n",
        "        third = Node(3)\n",
        "\n",
        "        llist.head.next = second\n",
        "        second.next = third\n",
        "\n",
        "        llist.printList()\n",
        "        print(\"The last element in the stack is\", llist.pop())\n",
        "        "
      ],
      "metadata": {
        "colab": {
          "base_uri": "https://localhost:8080/",
          "height": 130
        },
        "id": "HlrRIHU_YB5P",
        "outputId": "44bf8e0d-7680-4216-88d6-d5d0d1da84dc"
      },
      "execution_count": 12,
      "outputs": [
        {
          "output_type": "error",
          "ename": "IndentationError",
          "evalue": "ignored",
          "traceback": [
            "\u001b[0;36m  File \u001b[0;32m\"<ipython-input-12-d7d0d1534051>\"\u001b[0;36m, line \u001b[0;32m22\u001b[0m\n\u001b[0;31m    if self.isempty():\u001b[0m\n\u001b[0m     ^\u001b[0m\n\u001b[0;31mIndentationError\u001b[0m\u001b[0;31m:\u001b[0m expected an indented block\n"
          ]
        }
      ]
    },
    {
      "cell_type": "code",
      "source": [
        "#Python program to create a sngly Linke-List\n",
        "\n",
        "class Node:\n",
        "  def __init__(self,data):\n",
        "    self.data = data\n",
        "    self.next = None\n",
        "\n",
        "class LinkedList:\n",
        "  def __init__(self):\n",
        "    self.head = None\n",
        "  def printList(self):\n",
        "    temp = self.head\n",
        "    while(temp):\n",
        "      print(temp.data)\n",
        "      temp = temp.next\n",
        "  def isempty(self):\n",
        "    if self.printList == None:\n",
        "      return True\n",
        "    else:\n",
        "      return False\n",
        "\n",
        "  def pop(self):\n",
        "    if self.isempty():\n",
        "      print(\"The stack is empty\")\n",
        "    else:\n",
        "      popped_node = third\n",
        "      return popped_node.data\n",
        "  \n",
        "      \n",
        "\n",
        "#code to start the execution\n",
        "llist = LinkedList()\n",
        "llist.head = Node(1)\n",
        "second = Node(2)\n",
        "third = Node(3)\n",
        "\n",
        "llist.head.next = second\n",
        "second.next = third\n",
        "\n",
        "llist.printList()\n",
        "print(\"The last element in the stack is\", llist.pop())\n"
      ],
      "metadata": {
        "colab": {
          "base_uri": "https://localhost:8080/"
        },
        "id": "lR4Lgiv1dzP6",
        "outputId": "e04d000d-1851-4e98-d7a3-07f94826cb4e"
      },
      "execution_count": 13,
      "outputs": [
        {
          "output_type": "stream",
          "name": "stdout",
          "text": [
            "1\n",
            "2\n",
            "3\n",
            "The last element in the stack is 3\n"
          ]
        }
      ]
    },
    {
      "cell_type": "code",
      "source": [
        "#Python program to demonstrate stack implementation using Array\n",
        "stack = []\n",
        "#insert/append elements in the stack\n",
        "\n",
        "stack.append('a')\n",
        "stack.append('b')\n",
        "stack.append('c')\n",
        "print('Initial elements in the stack',stack)\n",
        "\n",
        "#removing elements/pop () function to pop elements from the stack\n",
        "print(stack.pop())\n",
        "print(\"After popping the last element\")\n",
        "print(stack)\n"
      ],
      "metadata": {
        "id": "-AKEltklgOzq"
      },
      "execution_count": null,
      "outputs": []
    }
  ]
}