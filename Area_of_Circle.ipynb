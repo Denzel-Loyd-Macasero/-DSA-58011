{
  "nbformat": 4,
  "nbformat_minor": 0,
  "metadata": {
    "colab": {
      "name": "Area of Circle.ipynb",
      "provenance": [],
      "authorship_tag": "ABX9TyMop79LJ2R9mdIGI101CHsW",
      "include_colab_link": true
    },
    "kernelspec": {
      "name": "python3",
      "display_name": "Python 3"
    },
    "language_info": {
      "name": "python"
    }
  },
  "cells": [
    {
      "cell_type": "markdown",
      "metadata": {
        "id": "view-in-github",
        "colab_type": "text"
      },
      "source": [
        "<a href=\"https://colab.research.google.com/github/Denzel-Loyd-Macasero/-DSA-58011/blob/main/Area_of_Circle.ipynb\" target=\"_parent\"><img src=\"https://colab.research.google.com/assets/colab-badge.svg\" alt=\"Open In Colab\"/></a>"
      ]
    },
    {
      "cell_type": "code",
      "execution_count": 1,
      "metadata": {
        "colab": {
          "base_uri": "https://localhost:8080/"
        },
        "id": "QNWEfPVaDkxF",
        "outputId": "6a1030ab-ff16-47e5-9db8-7b21169d40b7"
      },
      "outputs": [
        {
          "output_type": "stream",
          "name": "stdout",
          "text": [
            "Enter the radius of a circle3.14\n",
            "Area of Circle = 30.96\n"
          ]
        }
      ],
      "source": [
        "PI = 3.14\n",
        "r = float(input(\"Enter the radius of a circle\"))\n",
        "area = PI * r * r\n",
        "print(\"Area of Circle = %.2f\" %area)"
      ]
    },
    {
      "cell_type": "code",
      "source": [
        "PI = 3.14\n",
        "radius = float(input(' Please Enter the radius of a circle: '))\n",
        " \n",
        "diameter = 2 * radius\n",
        "circumference = 2 * PI * radius\n",
        "area = PI * radius * radius\n",
        " \n",
        "print(\" \\nDiameter Of a Circle = %.2f\" %diameter)\n",
        "print(\" Circumference Of a Circle = %.2f\" %circumference)\n",
        "print(\" Area Of a Circle = %.2f\" %area)"
      ],
      "metadata": {
        "colab": {
          "base_uri": "https://localhost:8080/"
        },
        "id": "tmBRwQbgKbZZ",
        "outputId": "127d5dd2-c92d-4ba3-dfe7-33e2a8033f89"
      },
      "execution_count": 11,
      "outputs": [
        {
          "output_type": "stream",
          "name": "stdout",
          "text": [
            " Please Enter the radius of a circle: 3.14\n",
            " \n",
            "Diameter Of a Circle = 6.28\n",
            " Circumference Of a Circle = 19.72\n",
            " Area Of a Circle = 30.96\n"
          ]
        }
      ]
    }
  ]
}