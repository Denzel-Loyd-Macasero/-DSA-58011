{
  "nbformat": 4,
  "nbformat_minor": 0,
  "metadata": {
    "colab": {
      "name": "Area of Circle.ipynb",
      "provenance": [],
      "authorship_tag": "ABX9TyOuzMqX7oUfxzrFOaQ8nx3P",
      "include_colab_link": true
    },
    "kernelspec": {
      "name": "python3",
      "display_name": "Python 3"
    },
    "language_info": {
      "name": "python"
    }
  },
  "cells": [
    {
      "cell_type": "markdown",
      "metadata": {
        "id": "view-in-github",
        "colab_type": "text"
      },
      "source": [
        "<a href=\"https://colab.research.google.com/github/Denzel-Loyd-Macasero/-DSA-58011/blob/main/Area_of_Circle.ipynb\" target=\"_parent\"><img src=\"https://colab.research.google.com/assets/colab-badge.svg\" alt=\"Open In Colab\"/></a>"
      ]
    },
    {
      "cell_type": "code",
      "execution_count": 1,
      "metadata": {
        "colab": {
          "base_uri": "https://localhost:8080/"
        },
        "id": "QNWEfPVaDkxF",
        "outputId": "6a1030ab-ff16-47e5-9db8-7b21169d40b7"
      },
      "outputs": [
        {
          "output_type": "stream",
          "name": "stdout",
          "text": [
            "Enter the radius of a circle3.14\n",
            "Area of Circle = 30.96\n"
          ]
        }
      ],
      "source": [
        "PI = 3.14\n",
        "r = float(input(\"Enter the radius of a circle\"))\n",
        "area = PI * r * r\n",
        "print(\"Area of Circle = %.2f\" %area)"
      ]
    },
    {
      "cell_type": "code",
      "source": [
        "def findArea(r):\n",
        "  PI = 3.14\n",
        "  return PI * (r*r);\n",
        "  print(\"Area of circle = %.6f\" % findArea(6));"
      ],
      "metadata": {
        "id": "W8qNOdqFHTvK"
      },
      "execution_count": 3,
      "outputs": []
    }
  ]
}