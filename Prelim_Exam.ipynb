{
  "nbformat": 4,
  "nbformat_minor": 0,
  "metadata": {
    "colab": {
      "provenance": [],
      "authorship_tag": "ABX9TyOEU45kYl+qIBALuNnf5pxy",
      "include_colab_link": true
    },
    "kernelspec": {
      "name": "python3",
      "display_name": "Python 3"
    },
    "language_info": {
      "name": "python"
    }
  },
  "cells": [
    {
      "cell_type": "markdown",
      "metadata": {
        "id": "view-in-github",
        "colab_type": "text"
      },
      "source": [
        "<a href=\"https://colab.research.google.com/github/Denzel-Loyd-Macasero/-DSA-58011/blob/main/Prelim_Exam.ipynb\" target=\"_parent\"><img src=\"https://colab.research.google.com/assets/colab-badge.svg\" alt=\"Open In Colab\"/></a>"
      ]
    },
    {
      "cell_type": "markdown",
      "source": [
        "**1.) Create a Phython program that appends all composite integers less than 10 but greater than 1 and counts the number of composite.\n",
        "**"
      ],
      "metadata": {
        "id": "R013uCJ7tTtJ"
      }
    },
    {
      "cell_type": "code",
      "execution_count": 6,
      "metadata": {
        "id": "CFshZS8lrIFP"
      },
      "outputs": [],
      "source": [
        "#Prelim Exam\n"
      ]
    },
    {
      "cell_type": "code",
      "source": [
        "arr = []\n",
        "arr.append(4)\n",
        "arr.append(6)\n",
        "arr.append(8)\n",
        "arr.append(9)\n",
        "len(arr)\n",
        "print(arr)\n",
        "print(\"Number of composite numbers:\", len(arr))"
      ],
      "metadata": {
        "colab": {
          "base_uri": "https://localhost:8080/"
        },
        "id": "h__uNswdwG1c",
        "outputId": "a0e23ed1-6ffb-4a20-bbf1-5252e55f4cf6"
      },
      "execution_count": 9,
      "outputs": [
        {
          "output_type": "stream",
          "name": "stdout",
          "text": [
            "[4, 6, 8, 9]\n",
            "Number of composite numbers: 4\n"
          ]
        }
      ]
    }
  ]
}