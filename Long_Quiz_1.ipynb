{
  "nbformat": 4,
  "nbformat_minor": 0,
  "metadata": {
    "colab": {
      "provenance": [],
      "authorship_tag": "ABX9TyMCJwamIYNoR/jb7o2/gWh4",
      "include_colab_link": true
    },
    "kernelspec": {
      "name": "python3",
      "display_name": "Python 3"
    },
    "language_info": {
      "name": "python"
    }
  },
  "cells": [
    {
      "cell_type": "markdown",
      "metadata": {
        "id": "view-in-github",
        "colab_type": "text"
      },
      "source": [
        "<a href=\"https://colab.research.google.com/github/Denzel-Loyd-Macasero/-DSA-58011/blob/main/Long_Quiz_1.ipynb\" target=\"_parent\"><img src=\"https://colab.research.google.com/assets/colab-badge.svg\" alt=\"Open In Colab\"/></a>"
      ]
    },
    {
      "cell_type": "markdown",
      "source": [
        "**Create a phython program that inserts each character of your full name and displays your full name in reverse order**"
      ],
      "metadata": {
        "id": "4bpWU5PJdl9j"
      }
    },
    {
      "cell_type": "code",
      "source": [
        "arr = [1, 2, 3, 4, 5]\n",
        "print(\"Array is :\",arr)\n",
        " \n",
        "res = arr[::-1]\n",
        "print(\"Resultant new reversed array:\",res)\n",
        "Name =['Denzel Loyd', 'Macasero']\n",
        "Name.reverse()\n",
        "print(Name)"
      ],
      "metadata": {
        "id": "B5BUKTA6hocF",
        "colab": {
          "base_uri": "https://localhost:8080/"
        },
        "outputId": "089984d0-0eb0-41ce-92e2-37ffee0cce42"
      },
      "execution_count": 12,
      "outputs": [
        {
          "output_type": "stream",
          "name": "stdout",
          "text": [
            "Array is : [1, 2, 3, 4, 5]\n",
            "Resultant new reversed array: [5, 4, 3, 2, 1]\n",
            "['Macasero', 'Denzel Loyd']\n"
          ]
        }
      ]
    }
  ]
}