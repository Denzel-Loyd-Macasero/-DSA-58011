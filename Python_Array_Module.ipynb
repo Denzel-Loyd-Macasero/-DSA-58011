{
  "nbformat": 4,
  "nbformat_minor": 0,
  "metadata": {
    "colab": {
      "provenance": [],
      "authorship_tag": "ABX9TyPpVwRMqs1s12BXMA8jcV5l",
      "include_colab_link": true
    },
    "kernelspec": {
      "name": "python3",
      "display_name": "Python 3"
    },
    "language_info": {
      "name": "python"
    }
  },
  "cells": [
    {
      "cell_type": "markdown",
      "metadata": {
        "id": "view-in-github",
        "colab_type": "text"
      },
      "source": [
        "<a href=\"https://colab.research.google.com/github/Denzel-Loyd-Macasero/-DSA-58011/blob/main/Python_Array_Module.ipynb\" target=\"_parent\"><img src=\"https://colab.research.google.com/assets/colab-badge.svg\" alt=\"Open In Colab\"/></a>"
      ]
    },
    {
      "cell_type": "markdown",
      "source": [
        "**Example 1**"
      ],
      "metadata": {
        "id": "1t-S04ByDrEN"
      }
    },
    {
      "cell_type": "code",
      "execution_count": 1,
      "metadata": {
        "colab": {
          "base_uri": "https://localhost:8080/",
          "height": 36
        },
        "id": "MYd0Nio5B6Of",
        "outputId": "a08e92b9-6826-4231-aabb-73f78e496422"
      },
      "outputs": [
        {
          "output_type": "execute_result",
          "data": {
            "text/plain": [
              "'f'"
            ],
            "application/vnd.google.colaboratory.intrinsic+json": {
              "type": "string"
            }
          },
          "metadata": {},
          "execution_count": 1
        }
      ],
      "source": [
        "import array\n",
        "array.typecodes\n",
        "a = array.array('i', [1,2,3,4,5,6])\n",
        "b = array.array('f', [1.5,2.5,3.5,4.5,5.5,6.5])\n",
        "a.typecode\n",
        "b.typecode"
      ]
    },
    {
      "cell_type": "markdown",
      "source": [
        "**Example 2**"
      ],
      "metadata": {
        "id": "68N0_DI7HSYP"
      }
    },
    {
      "cell_type": "code",
      "source": [
        "import numpy as np\n",
        "a = np.empty([2, 2], dtype = float)\n",
        "print (a)\n"
      ],
      "metadata": {
        "colab": {
          "base_uri": "https://localhost:8080/"
        },
        "id": "ysHaO1-_F5sz",
        "outputId": "1c3b5ae8-a103-467c-96d1-4d1b72314ece"
      },
      "execution_count": 3,
      "outputs": [
        {
          "output_type": "stream",
          "name": "stdout",
          "text": [
            "[[5.e-324 5.e-324]\n",
            " [5.e-324 0.e+000]]\n"
          ]
        }
      ]
    },
    {
      "cell_type": "code",
      "source": [
        "a = array.array('f',[1,2,3,4,5,6])\n",
        "print (a)"
      ],
      "metadata": {
        "colab": {
          "base_uri": "https://localhost:8080/"
        },
        "id": "_l8ExVDGHbOS",
        "outputId": "7230ca45-64e6-4b48-983b-9004cf702af4"
      },
      "execution_count": 4,
      "outputs": [
        {
          "output_type": "stream",
          "name": "stdout",
          "text": [
            "array('f', [1.0, 2.0, 3.0, 4.0, 5.0, 6.0])\n"
          ]
        }
      ]
    },
    {
      "cell_type": "markdown",
      "source": [
        "Insert an element: 11 to the first index of the array a"
      ],
      "metadata": {
        "id": "cfQF9rhtHsBZ"
      }
    },
    {
      "cell_type": "code",
      "source": [
        "a.insert(0,11)\n",
        "print (a)\n",
        "b.insert(-1,11)\n",
        "print (b)\n",
        "\n",
        "b[-1] =12\n",
        "print(b)"
      ],
      "metadata": {
        "colab": {
          "base_uri": "https://localhost:8080/"
        },
        "id": "dg2wA0PbHxm4",
        "outputId": "f4530772-ec87-463a-a23b-b667e02cc60c"
      },
      "execution_count": 10,
      "outputs": [
        {
          "output_type": "stream",
          "name": "stdout",
          "text": [
            "array('f', [11.0, 11.0, 11.0, 1.0, 2.0, 3.0, 4.0, 5.0, 6.0])\n",
            "array('f', [1.5, 2.5, 3.5, 4.5, 5.5, 11.0, 11.0, 6.5])\n",
            "array('f', [1.5, 2.5, 3.5, 4.5, 5.5, 11.0, 11.0, 12.0])\n"
          ]
        }
      ]
    },
    {
      "cell_type": "markdown",
      "source": [
        "**What is the output of these codes**"
      ],
      "metadata": {
        "id": "E8gkj-psLVoN"
      }
    },
    {
      "cell_type": "code",
      "source": [
        "from array import array\n",
        "a= array('i',[4,5,6,7])\n",
        "a.insert(1,2)\n",
        "a = array"
      ],
      "metadata": {
        "id": "fhFbmvUILbfL"
      },
      "execution_count": null,
      "outputs": []
    },
    {
      "cell_type": "markdown",
      "source": [
        "**Example 3**"
      ],
      "metadata": {
        "id": "zdCb4IuvOaYj"
      }
    },
    {
      "cell_type": "code",
      "source": [
        "class Node:\n",
        "\n",
        "  def __init__(self, data):\n",
        "    self.data = data\n",
        "    self.next = None\n",
        "\n",
        "    class LinkedList:\n",
        "\n",
        "      def __init__(self):\n",
        "        self.head = None"
      ],
      "metadata": {
        "id": "R8CIK_mOOdn0"
      },
      "execution_count": 11,
      "outputs": []
    },
    {
      "cell_type": "markdown",
      "source": [
        "**Example 4**"
      ],
      "metadata": {
        "id": "sxjYcHWoPz00"
      }
    },
    {
      "cell_type": "code",
      "source": [
        "class Node:\n",
        "\n",
        "  def __init__(self,data):\n",
        "    self.data = data\n",
        "    self.next = None\n",
        "\n",
        "    class LinkedList:\n",
        "\n",
        "      def __init__(self):\n",
        "        self.head = None\n",
        "        def printlist(self):\n",
        "          temp = self.head\n",
        "          while(temp):\n",
        "            print(temp.data)\n",
        "            temp = temp.next\n",
        "\n",
        "        if __name__=='__main__':\n",
        "\n",
        "          llist = LinkedList()\n",
        "\n",
        "          llist.head = Node(1)\n",
        "          second = Node(2)\n",
        "          third = Node(3)\n",
        "\n",
        "          llist.head.next = second\n",
        "          second.next = third\n",
        "\n",
        "          llist.printList()"
      ],
      "metadata": {
        "id": "e132Cqe7P2ei"
      },
      "execution_count": 18,
      "outputs": []
    }
  ]
}