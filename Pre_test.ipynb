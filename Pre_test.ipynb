{
  "nbformat": 4,
  "nbformat_minor": 0,
  "metadata": {
    "colab": {
      "name": "Pre-test.ipynb",
      "provenance": [],
      "authorship_tag": "ABX9TyOI2Jmdweuz22Y9DF6vfbhF",
      "include_colab_link": true
    },
    "kernelspec": {
      "name": "python3",
      "display_name": "Python 3"
    },
    "language_info": {
      "name": "python"
    }
  },
  "cells": [
    {
      "cell_type": "markdown",
      "metadata": {
        "id": "view-in-github",
        "colab_type": "text"
      },
      "source": [
        "<a href=\"https://colab.research.google.com/github/Denzel-Loyd-Macasero/-DSA-58011/blob/main/Pre_test.ipynb\" target=\"_parent\"><img src=\"https://colab.research.google.com/assets/colab-badge.svg\" alt=\"Open In Colab\"/></a>"
      ]
    },
    {
      "cell_type": "code",
      "execution_count": 1,
      "metadata": {
        "id": "SEFeQbhAbU6t"
      },
      "outputs": [],
      "source": [
        "class Rectangle:\n",
        "  def __init__(self,length,width):\n",
        "    self.length = length\n",
        "    self.width = width\n",
        "\n",
        "    def Area(self):\n",
        "      print(self.length * self.width)\n",
        "\n",
        "      rect = Rectangle(7, 3)\n",
        "      rect.Area()"
      ]
    }
  ]
}